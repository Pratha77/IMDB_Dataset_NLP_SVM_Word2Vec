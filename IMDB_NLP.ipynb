{
  "nbformat": 4,
  "nbformat_minor": 0,
  "metadata": {
    "colab": {
      "provenance": [],
      "gpuType": "T4"
    },
    "kernelspec": {
      "name": "python3",
      "display_name": "Python 3"
    },
    "language_info": {
      "name": "python"
    },
    "accelerator": "GPU"
  },
  "cells": [
    {
      "cell_type": "code",
      "source": [
        "!pip install beautifulsoup4 nltk scikit-learn gensim"
      ],
      "metadata": {
        "colab": {
          "base_uri": "https://localhost:8080/"
        },
        "id": "z94k7tbholTV",
        "outputId": "4b913513-3924-4e85-c9f3-0a321d143193"
      },
      "execution_count": 1,
      "outputs": [
        {
          "output_type": "stream",
          "name": "stdout",
          "text": [
            "Requirement already satisfied: beautifulsoup4 in /usr/local/lib/python3.10/dist-packages (4.12.3)\n",
            "Requirement already satisfied: nltk in /usr/local/lib/python3.10/dist-packages (3.8.1)\n",
            "Requirement already satisfied: scikit-learn in /usr/local/lib/python3.10/dist-packages (1.2.2)\n",
            "Requirement already satisfied: gensim in /usr/local/lib/python3.10/dist-packages (4.3.2)\n",
            "Requirement already satisfied: soupsieve>1.2 in /usr/local/lib/python3.10/dist-packages (from beautifulsoup4) (2.5)\n",
            "Requirement already satisfied: click in /usr/local/lib/python3.10/dist-packages (from nltk) (8.1.7)\n",
            "Requirement already satisfied: joblib in /usr/local/lib/python3.10/dist-packages (from nltk) (1.3.2)\n",
            "Requirement already satisfied: regex>=2021.8.3 in /usr/local/lib/python3.10/dist-packages (from nltk) (2023.12.25)\n",
            "Requirement already satisfied: tqdm in /usr/local/lib/python3.10/dist-packages (from nltk) (4.66.2)\n",
            "Requirement already satisfied: numpy>=1.17.3 in /usr/local/lib/python3.10/dist-packages (from scikit-learn) (1.25.2)\n",
            "Requirement already satisfied: scipy>=1.3.2 in /usr/local/lib/python3.10/dist-packages (from scikit-learn) (1.11.4)\n",
            "Requirement already satisfied: threadpoolctl>=2.0.0 in /usr/local/lib/python3.10/dist-packages (from scikit-learn) (3.3.0)\n",
            "Requirement already satisfied: smart-open>=1.8.1 in /usr/local/lib/python3.10/dist-packages (from gensim) (6.4.0)\n"
          ]
        }
      ]
    },
    {
      "cell_type": "code",
      "execution_count": 2,
      "metadata": {
        "colab": {
          "base_uri": "https://localhost:8080/"
        },
        "id": "DAzLyqJFhOEa",
        "outputId": "87e784da-ce12-4374-ab7e-1d8fd1ef3576"
      },
      "outputs": [
        {
          "output_type": "stream",
          "name": "stdout",
          "text": [
            "Mounted at /content/drive\n"
          ]
        }
      ],
      "source": [
        "from google.colab import drive\n",
        "drive.mount('/content/drive')"
      ]
    },
    {
      "cell_type": "code",
      "source": [
        "import os\n",
        "os.chdir(\"/content/drive/MyDrive/AI_Codding_exam/NLP_AI_Exam\")"
      ],
      "metadata": {
        "id": "YZnaJg-yh1Sc"
      },
      "execution_count": 3,
      "outputs": []
    },
    {
      "cell_type": "code",
      "source": [
        "!dir"
      ],
      "metadata": {
        "colab": {
          "base_uri": "https://localhost:8080/"
        },
        "id": "9CbLkIxtiONk",
        "outputId": "d96da5ca-8434-4fdb-e46c-9747276541d5"
      },
      "execution_count": 4,
      "outputs": [
        {
          "output_type": "stream",
          "name": "stdout",
          "text": [
            "IMDB\\ Dataset.csv  Prathamesh_Ambre_NLP_AI_Test.ipynb\n"
          ]
        }
      ]
    },
    {
      "cell_type": "markdown",
      "source": [
        "#1)Preprocess the text (i.e., the steps required prior to converting the sentence into a vector) using any library of your choice."
      ],
      "metadata": {
        "id": "sS8sGzgtoKd8"
      }
    },
    {
      "cell_type": "markdown",
      "source": [
        "## Step 1: Preprocess the text"
      ],
      "metadata": {
        "id": "4fL4Nixg5QjG"
      }
    },
    {
      "cell_type": "code",
      "source": [
        "\n",
        "import re\n",
        "from bs4 import BeautifulSoup\n",
        "from nltk.corpus import stopwords\n",
        "from nltk.tokenize import word_tokenize\n",
        "from sklearn.model_selection import train_test_split\n",
        "from sklearn.feature_extraction.text import CountVectorizer, TfidfVectorizer\n",
        "from sklearn.svm import SVC\n",
        "from sklearn.metrics import accuracy_score\n",
        "from gensim.models import Word2Vec\n",
        "import numpy as np"
      ],
      "metadata": {
        "id": "EEANGJwPkr68"
      },
      "execution_count": 5,
      "outputs": []
    },
    {
      "cell_type": "code",
      "source": [
        "import nltk\n",
        "nltk.download('stopwords')"
      ],
      "metadata": {
        "colab": {
          "base_uri": "https://localhost:8080/"
        },
        "id": "CD5pDw4_pOCE",
        "outputId": "b911ce11-83b2-4f5d-e068-752043b17474"
      },
      "execution_count": 6,
      "outputs": [
        {
          "output_type": "stream",
          "name": "stderr",
          "text": [
            "[nltk_data] Downloading package stopwords to /root/nltk_data...\n",
            "[nltk_data]   Unzipping corpora/stopwords.zip.\n"
          ]
        },
        {
          "output_type": "execute_result",
          "data": {
            "text/plain": [
              "True"
            ]
          },
          "metadata": {},
          "execution_count": 6
        }
      ]
    },
    {
      "cell_type": "code",
      "source": [
        "# Load NLTK stopwords\n",
        "stop_words = set(stopwords.words('english'))"
      ],
      "metadata": {
        "id": "i3L8_rAVpJd9"
      },
      "execution_count": 7,
      "outputs": []
    },
    {
      "cell_type": "markdown",
      "source": [
        "##Function for cleaning the text"
      ],
      "metadata": {
        "id": "iewEZmH15fxN"
      }
    },
    {
      "cell_type": "code",
      "source": [
        "def preprocess_text(text):\n",
        "    # Remove HTML tags\n",
        "    text = BeautifulSoup(text, \"html.parser\").get_text()\n",
        "\n",
        "    # Remove special characters and numbers\n",
        "    text = re.sub(r'[^a-zA-Z]', ' ', text)\n",
        "\n",
        "    # Convert to lowercase\n",
        "    text = text.lower()\n",
        "\n",
        "    # Tokenize\n",
        "    tokens = word_tokenize(text)\n",
        "\n",
        "    # Remove stopwords\n",
        "    tokens = [word for word in tokens if word not in stop_words]\n",
        "\n",
        "    # Join the tokens back into a sentence\n",
        "    clean_text = ' '.join(tokens)\n",
        "\n",
        "    return clean_text"
      ],
      "metadata": {
        "id": "SK2mHHjRpTUh"
      },
      "execution_count": 8,
      "outputs": []
    },
    {
      "cell_type": "code",
      "source": [
        "import pandas as pd"
      ],
      "metadata": {
        "id": "7yraeMy5pgmg"
      },
      "execution_count": 9,
      "outputs": []
    },
    {
      "cell_type": "markdown",
      "source": [
        "##Reading the data"
      ],
      "metadata": {
        "id": "DLqBqi965oKn"
      }
    },
    {
      "cell_type": "code",
      "source": [
        "# My dataset is in a CSV file named 'your_dataset.csv'\n",
        "file_path = '/content/drive/MyDrive/AI_Codding_exam/NLP_AI_Exam/IMDB Dataset.csv'"
      ],
      "metadata": {
        "id": "ISCepFEJECB7"
      },
      "execution_count": 10,
      "outputs": []
    },
    {
      "cell_type": "code",
      "source": [
        "# Load the entire dataset\n",
        "data = pd.read_csv(file_path)\n",
        "\n",
        "# Sample 10,000 records randomly\n",
        "num_records_to_sample = 10000\n",
        "df = data.sample(n=num_records_to_sample, random_state=42)"
      ],
      "metadata": {
        "id": "GL9w08UmEA0r"
      },
      "execution_count": 11,
      "outputs": []
    },
    {
      "cell_type": "code",
      "source": [
        "df.head()"
      ],
      "metadata": {
        "colab": {
          "base_uri": "https://localhost:8080/",
          "height": 206
        },
        "id": "nK-__dZRk8Gx",
        "outputId": "af587e0f-3398-4988-8779-fa4d0435d2db"
      },
      "execution_count": 12,
      "outputs": [
        {
          "output_type": "execute_result",
          "data": {
            "text/plain": [
              "                                                  review sentiment\n",
              "33553  I really liked this Summerslam due to the look...  positive\n",
              "9427   Not many television shows appeal to quite as m...  positive\n",
              "199    The film quickly gets to a major chase scene w...  negative\n",
              "12447  Jane Austen would definitely approve of this o...  positive\n",
              "39489  Expectations were somewhat high for me when I ...  negative"
            ],
            "text/html": [
              "\n",
              "  <div id=\"df-175361da-7670-438c-b15f-3eba73c958a1\" class=\"colab-df-container\">\n",
              "    <div>\n",
              "<style scoped>\n",
              "    .dataframe tbody tr th:only-of-type {\n",
              "        vertical-align: middle;\n",
              "    }\n",
              "\n",
              "    .dataframe tbody tr th {\n",
              "        vertical-align: top;\n",
              "    }\n",
              "\n",
              "    .dataframe thead th {\n",
              "        text-align: right;\n",
              "    }\n",
              "</style>\n",
              "<table border=\"1\" class=\"dataframe\">\n",
              "  <thead>\n",
              "    <tr style=\"text-align: right;\">\n",
              "      <th></th>\n",
              "      <th>review</th>\n",
              "      <th>sentiment</th>\n",
              "    </tr>\n",
              "  </thead>\n",
              "  <tbody>\n",
              "    <tr>\n",
              "      <th>33553</th>\n",
              "      <td>I really liked this Summerslam due to the look...</td>\n",
              "      <td>positive</td>\n",
              "    </tr>\n",
              "    <tr>\n",
              "      <th>9427</th>\n",
              "      <td>Not many television shows appeal to quite as m...</td>\n",
              "      <td>positive</td>\n",
              "    </tr>\n",
              "    <tr>\n",
              "      <th>199</th>\n",
              "      <td>The film quickly gets to a major chase scene w...</td>\n",
              "      <td>negative</td>\n",
              "    </tr>\n",
              "    <tr>\n",
              "      <th>12447</th>\n",
              "      <td>Jane Austen would definitely approve of this o...</td>\n",
              "      <td>positive</td>\n",
              "    </tr>\n",
              "    <tr>\n",
              "      <th>39489</th>\n",
              "      <td>Expectations were somewhat high for me when I ...</td>\n",
              "      <td>negative</td>\n",
              "    </tr>\n",
              "  </tbody>\n",
              "</table>\n",
              "</div>\n",
              "    <div class=\"colab-df-buttons\">\n",
              "\n",
              "  <div class=\"colab-df-container\">\n",
              "    <button class=\"colab-df-convert\" onclick=\"convertToInteractive('df-175361da-7670-438c-b15f-3eba73c958a1')\"\n",
              "            title=\"Convert this dataframe to an interactive table.\"\n",
              "            style=\"display:none;\">\n",
              "\n",
              "  <svg xmlns=\"http://www.w3.org/2000/svg\" height=\"24px\" viewBox=\"0 -960 960 960\">\n",
              "    <path d=\"M120-120v-720h720v720H120Zm60-500h600v-160H180v160Zm220 220h160v-160H400v160Zm0 220h160v-160H400v160ZM180-400h160v-160H180v160Zm440 0h160v-160H620v160ZM180-180h160v-160H180v160Zm440 0h160v-160H620v160Z\"/>\n",
              "  </svg>\n",
              "    </button>\n",
              "\n",
              "  <style>\n",
              "    .colab-df-container {\n",
              "      display:flex;\n",
              "      gap: 12px;\n",
              "    }\n",
              "\n",
              "    .colab-df-convert {\n",
              "      background-color: #E8F0FE;\n",
              "      border: none;\n",
              "      border-radius: 50%;\n",
              "      cursor: pointer;\n",
              "      display: none;\n",
              "      fill: #1967D2;\n",
              "      height: 32px;\n",
              "      padding: 0 0 0 0;\n",
              "      width: 32px;\n",
              "    }\n",
              "\n",
              "    .colab-df-convert:hover {\n",
              "      background-color: #E2EBFA;\n",
              "      box-shadow: 0px 1px 2px rgba(60, 64, 67, 0.3), 0px 1px 3px 1px rgba(60, 64, 67, 0.15);\n",
              "      fill: #174EA6;\n",
              "    }\n",
              "\n",
              "    .colab-df-buttons div {\n",
              "      margin-bottom: 4px;\n",
              "    }\n",
              "\n",
              "    [theme=dark] .colab-df-convert {\n",
              "      background-color: #3B4455;\n",
              "      fill: #D2E3FC;\n",
              "    }\n",
              "\n",
              "    [theme=dark] .colab-df-convert:hover {\n",
              "      background-color: #434B5C;\n",
              "      box-shadow: 0px 1px 3px 1px rgba(0, 0, 0, 0.15);\n",
              "      filter: drop-shadow(0px 1px 2px rgba(0, 0, 0, 0.3));\n",
              "      fill: #FFFFFF;\n",
              "    }\n",
              "  </style>\n",
              "\n",
              "    <script>\n",
              "      const buttonEl =\n",
              "        document.querySelector('#df-175361da-7670-438c-b15f-3eba73c958a1 button.colab-df-convert');\n",
              "      buttonEl.style.display =\n",
              "        google.colab.kernel.accessAllowed ? 'block' : 'none';\n",
              "\n",
              "      async function convertToInteractive(key) {\n",
              "        const element = document.querySelector('#df-175361da-7670-438c-b15f-3eba73c958a1');\n",
              "        const dataTable =\n",
              "          await google.colab.kernel.invokeFunction('convertToInteractive',\n",
              "                                                    [key], {});\n",
              "        if (!dataTable) return;\n",
              "\n",
              "        const docLinkHtml = 'Like what you see? Visit the ' +\n",
              "          '<a target=\"_blank\" href=https://colab.research.google.com/notebooks/data_table.ipynb>data table notebook</a>'\n",
              "          + ' to learn more about interactive tables.';\n",
              "        element.innerHTML = '';\n",
              "        dataTable['output_type'] = 'display_data';\n",
              "        await google.colab.output.renderOutput(dataTable, element);\n",
              "        const docLink = document.createElement('div');\n",
              "        docLink.innerHTML = docLinkHtml;\n",
              "        element.appendChild(docLink);\n",
              "      }\n",
              "    </script>\n",
              "  </div>\n",
              "\n",
              "\n",
              "<div id=\"df-6a679b53-f7ef-47ed-906c-ba8f3f765689\">\n",
              "  <button class=\"colab-df-quickchart\" onclick=\"quickchart('df-6a679b53-f7ef-47ed-906c-ba8f3f765689')\"\n",
              "            title=\"Suggest charts\"\n",
              "            style=\"display:none;\">\n",
              "\n",
              "<svg xmlns=\"http://www.w3.org/2000/svg\" height=\"24px\"viewBox=\"0 0 24 24\"\n",
              "     width=\"24px\">\n",
              "    <g>\n",
              "        <path d=\"M19 3H5c-1.1 0-2 .9-2 2v14c0 1.1.9 2 2 2h14c1.1 0 2-.9 2-2V5c0-1.1-.9-2-2-2zM9 17H7v-7h2v7zm4 0h-2V7h2v10zm4 0h-2v-4h2v4z\"/>\n",
              "    </g>\n",
              "</svg>\n",
              "  </button>\n",
              "\n",
              "<style>\n",
              "  .colab-df-quickchart {\n",
              "      --bg-color: #E8F0FE;\n",
              "      --fill-color: #1967D2;\n",
              "      --hover-bg-color: #E2EBFA;\n",
              "      --hover-fill-color: #174EA6;\n",
              "      --disabled-fill-color: #AAA;\n",
              "      --disabled-bg-color: #DDD;\n",
              "  }\n",
              "\n",
              "  [theme=dark] .colab-df-quickchart {\n",
              "      --bg-color: #3B4455;\n",
              "      --fill-color: #D2E3FC;\n",
              "      --hover-bg-color: #434B5C;\n",
              "      --hover-fill-color: #FFFFFF;\n",
              "      --disabled-bg-color: #3B4455;\n",
              "      --disabled-fill-color: #666;\n",
              "  }\n",
              "\n",
              "  .colab-df-quickchart {\n",
              "    background-color: var(--bg-color);\n",
              "    border: none;\n",
              "    border-radius: 50%;\n",
              "    cursor: pointer;\n",
              "    display: none;\n",
              "    fill: var(--fill-color);\n",
              "    height: 32px;\n",
              "    padding: 0;\n",
              "    width: 32px;\n",
              "  }\n",
              "\n",
              "  .colab-df-quickchart:hover {\n",
              "    background-color: var(--hover-bg-color);\n",
              "    box-shadow: 0 1px 2px rgba(60, 64, 67, 0.3), 0 1px 3px 1px rgba(60, 64, 67, 0.15);\n",
              "    fill: var(--button-hover-fill-color);\n",
              "  }\n",
              "\n",
              "  .colab-df-quickchart-complete:disabled,\n",
              "  .colab-df-quickchart-complete:disabled:hover {\n",
              "    background-color: var(--disabled-bg-color);\n",
              "    fill: var(--disabled-fill-color);\n",
              "    box-shadow: none;\n",
              "  }\n",
              "\n",
              "  .colab-df-spinner {\n",
              "    border: 2px solid var(--fill-color);\n",
              "    border-color: transparent;\n",
              "    border-bottom-color: var(--fill-color);\n",
              "    animation:\n",
              "      spin 1s steps(1) infinite;\n",
              "  }\n",
              "\n",
              "  @keyframes spin {\n",
              "    0% {\n",
              "      border-color: transparent;\n",
              "      border-bottom-color: var(--fill-color);\n",
              "      border-left-color: var(--fill-color);\n",
              "    }\n",
              "    20% {\n",
              "      border-color: transparent;\n",
              "      border-left-color: var(--fill-color);\n",
              "      border-top-color: var(--fill-color);\n",
              "    }\n",
              "    30% {\n",
              "      border-color: transparent;\n",
              "      border-left-color: var(--fill-color);\n",
              "      border-top-color: var(--fill-color);\n",
              "      border-right-color: var(--fill-color);\n",
              "    }\n",
              "    40% {\n",
              "      border-color: transparent;\n",
              "      border-right-color: var(--fill-color);\n",
              "      border-top-color: var(--fill-color);\n",
              "    }\n",
              "    60% {\n",
              "      border-color: transparent;\n",
              "      border-right-color: var(--fill-color);\n",
              "    }\n",
              "    80% {\n",
              "      border-color: transparent;\n",
              "      border-right-color: var(--fill-color);\n",
              "      border-bottom-color: var(--fill-color);\n",
              "    }\n",
              "    90% {\n",
              "      border-color: transparent;\n",
              "      border-bottom-color: var(--fill-color);\n",
              "    }\n",
              "  }\n",
              "</style>\n",
              "\n",
              "  <script>\n",
              "    async function quickchart(key) {\n",
              "      const quickchartButtonEl =\n",
              "        document.querySelector('#' + key + ' button');\n",
              "      quickchartButtonEl.disabled = true;  // To prevent multiple clicks.\n",
              "      quickchartButtonEl.classList.add('colab-df-spinner');\n",
              "      try {\n",
              "        const charts = await google.colab.kernel.invokeFunction(\n",
              "            'suggestCharts', [key], {});\n",
              "      } catch (error) {\n",
              "        console.error('Error during call to suggestCharts:', error);\n",
              "      }\n",
              "      quickchartButtonEl.classList.remove('colab-df-spinner');\n",
              "      quickchartButtonEl.classList.add('colab-df-quickchart-complete');\n",
              "    }\n",
              "    (() => {\n",
              "      let quickchartButtonEl =\n",
              "        document.querySelector('#df-6a679b53-f7ef-47ed-906c-ba8f3f765689 button');\n",
              "      quickchartButtonEl.style.display =\n",
              "        google.colab.kernel.accessAllowed ? 'block' : 'none';\n",
              "    })();\n",
              "  </script>\n",
              "</div>\n",
              "\n",
              "    </div>\n",
              "  </div>\n"
            ],
            "application/vnd.google.colaboratory.intrinsic+json": {
              "type": "dataframe",
              "variable_name": "df",
              "summary": "{\n  \"name\": \"df\",\n  \"rows\": 10000,\n  \"fields\": [\n    {\n      \"column\": \"review\",\n      \"properties\": {\n        \"dtype\": \"string\",\n        \"num_unique_values\": 9978,\n        \"samples\": [\n          \"The only reason I gave this movie a 2 and not a 1 was because for some reason I felt compelled to finish it out! Basically, I wanted to see if there were going to be any aliens, any UFO's, anything at all suggested by the title of the movie, the cover of the movie and the beginning of the movie! I was very disappointed to see religion being thrown into the mix the way that it was. This could have been used to the movie's advantage, but I felt, instead, that the movie was trying to send subliminal messages to me! Finally, how big was this cast's wardrobe!? I became so distracted by the number of different, and extremely bright, shirts each character had on in every new scene that I began to wonder if this movie wasn't really supposed to be classified under \\\"poor comedy\\\".<br /><br />toe thumbs down!\",\n          \"The movie's storyline is pat and quaint. Two women travel through the middle east and discover themselves. Unfortunately, if you are looking for a movie about the middle east and central Asia this is absolutely terrible.<br /><br />The producers of the film either did no research or were unbelievably lazy when filming it. To begin with, and most glaringly incorrect, the Nuristanis, as they were known in the thirties, and indeed since the 1890s and their forceful conversion by Abdul-Rahman Shah of Aghnaistan, were not nomads. In fact they have not been nomads since the Aryan invasions of central Asia over three milenia ago.<br /><br />Second, the city that is filmed as Tehran is not Tehran, which is understandable, however the geography of the area around the city could not be more strikingly DIFFERENT than the city of Tehran, which is surrounded on all side by a large mountain range, which predominates all of the cities views.<br /><br />Third, Persian, despite the fact it is spoken in Iran and Afghanistan, is never heard in movie. When there are native speakers who do not speak in German they speak in Arabic. The 'Persian' guards at the border, in fact, say to each other 'Ma hadha rujal' (This is not a man) and not 'in mard nist' as it would be in Persian. Also, the love song between the Indian princess and one of the main characters is obviously in Spanish. While talking in the garden one of the main characters says that the Quran uses the words 'Ferdos' and 'jehaan' and makes some reference to drugs afterwords. These words certainly never appear in the Quran as they are Persian for Paradise (indeed, Ferdos and Paradise are very distant cognates between our languages) and 'World' respectively, though Jehaan is admittedly close to 'Jehennan' which is hell in Arabic. When they encounter the nomads in the desert the language spoken is also Arabic, this despite the fact that there are NO native speakers of Arabic in Iran and Afghanistan and its use is primarily religious, with some use in education at that time.<br /><br />When they are stopped in Iran before they reach the Afghan border the people they encounter are wholly unlike any Iranian group. Their tents are typically bedouin with carpets decorating the walls and a high profile. In Iran it is also extremely uncommon for people to wear Turbans unless they are a cleric. The language spoken is clearly Arabic from the initial greeting of 'Ahlan wa Sahlan.' When they do reach Kabul the desert they find themselves in is sandy, totally unlike the rock dirt that is found in the arid parts of the Hindu Kush mountain range. There is an absence of the light green scrub that covers the ground in the summer and spring. The area is also not wholly consumed by the extreme mountains of the mountain range that won its name, The Indian Killers, because of its difficult and limiting ground.<br /><br />In short, the story line is the only thing in this movie that holds any water and it is still weak and common place. It lacks any real draw to it, being merely the tale of two women trying to learning about themselves as they get to Nuristan, however, even that is still-born and no real development is felt, leaving the characters in the end just where they were in the beginning and nothing has changed except that world war two has broken loose. In short, this is a really bad movie that I would have rated at one star except for the good footage of Bedouin and the deserts of the Levant, even if they are misnamed.\",\n          \"A paranoid scientist creates a wolfman by transfusing wolf blood into a meek, quiet, but very large gardener, in order to prove an hypothesis. So the gardener begins nightly rampages and the scientist tries to use him to reclaim his credentials, but is rebuffed by his former colleagues for tampering with nature. Island of Dr Moreau, Frankenstein and various wolfman films all blended together into a terribly dated, goofy, morality play.<br /><br />Though the subject matter is pedantic and unoriginal at best, this film is not too poorly made, and interesting to watch as a representative of horror film making of its time. Like most mad scientist films, this is a weak warning against fooling around with Mother Nature. It doesn't have the power or intellectual challenges of Frankenstein, but it doesn't ever extend its reach anyway. The acting is passable, as is the cinematography, and the film moves along at an entertaining clip. Some of the dialog is utterly ludicrous, but hey... it's just a movie - and a B minus one at that. There are also a few nice shots of a wolf, and a smattering of humor tossed-in to prevent the film from appearing to take itself too seriously - always a plus for this genre.\"\n        ],\n        \"semantic_type\": \"\",\n        \"description\": \"\"\n      }\n    },\n    {\n      \"column\": \"sentiment\",\n      \"properties\": {\n        \"dtype\": \"category\",\n        \"num_unique_values\": 2,\n        \"samples\": [\n          \"negative\",\n          \"positive\"\n        ],\n        \"semantic_type\": \"\",\n        \"description\": \"\"\n      }\n    }\n  ]\n}"
            }
          },
          "metadata": {},
          "execution_count": 12
        }
      ]
    },
    {
      "cell_type": "code",
      "source": [
        "df[\"sentiment\"].value_counts()"
      ],
      "metadata": {
        "colab": {
          "base_uri": "https://localhost:8080/"
        },
        "id": "37nL3f75lCEA",
        "outputId": "9e1209b7-a615-4509-cac6-293b3ca67b25"
      },
      "execution_count": 13,
      "outputs": [
        {
          "output_type": "execute_result",
          "data": {
            "text/plain": [
              "positive    5039\n",
              "negative    4961\n",
              "Name: sentiment, dtype: int64"
            ]
          },
          "metadata": {},
          "execution_count": 13
        }
      ]
    },
    {
      "cell_type": "code",
      "source": [
        "df.shape"
      ],
      "metadata": {
        "colab": {
          "base_uri": "https://localhost:8080/"
        },
        "id": "L5a4vL53E9QO",
        "outputId": "5708a32b-302a-4e98-f9af-c96efbf66551"
      },
      "execution_count": 14,
      "outputs": [
        {
          "output_type": "execute_result",
          "data": {
            "text/plain": [
              "(10000, 2)"
            ]
          },
          "metadata": {},
          "execution_count": 14
        }
      ]
    },
    {
      "cell_type": "code",
      "source": [
        "import nltk\n",
        "nltk.download('punkt')"
      ],
      "metadata": {
        "colab": {
          "base_uri": "https://localhost:8080/"
        },
        "id": "RZSQodE4sarW",
        "outputId": "24814546-09a2-452a-a915-d9c98b17250c"
      },
      "execution_count": 15,
      "outputs": [
        {
          "output_type": "stream",
          "name": "stderr",
          "text": [
            "[nltk_data] Downloading package punkt to /root/nltk_data...\n",
            "[nltk_data]   Unzipping tokenizers/punkt.zip.\n"
          ]
        },
        {
          "output_type": "execute_result",
          "data": {
            "text/plain": [
              "True"
            ]
          },
          "metadata": {},
          "execution_count": 15
        }
      ]
    },
    {
      "cell_type": "code",
      "source": [
        "# Apply preprocessing to the 'review' column and create a new 'clean_review' column\n",
        "df['clean_review'] = df['review'].apply(preprocess_text)"
      ],
      "metadata": {
        "id": "-ZtxOwsplRLD",
        "colab": {
          "base_uri": "https://localhost:8080/"
        },
        "outputId": "f828932d-2259-4ae1-b72a-0ac68e7c5df7"
      },
      "execution_count": 16,
      "outputs": [
        {
          "output_type": "stream",
          "name": "stderr",
          "text": [
            "<ipython-input-8-bef54dc5d3e6>:3: MarkupResemblesLocatorWarning: The input looks more like a filename than markup. You may want to open this file and pass the filehandle into Beautiful Soup.\n",
            "  text = BeautifulSoup(text, \"html.parser\").get_text()\n"
          ]
        }
      ]
    },
    {
      "cell_type": "code",
      "source": [
        "df.head()"
      ],
      "metadata": {
        "colab": {
          "base_uri": "https://localhost:8080/",
          "height": 206
        },
        "id": "LNntIRiMsXLk",
        "outputId": "f6569e4a-8298-4874-e211-c9bc3686f949"
      },
      "execution_count": 17,
      "outputs": [
        {
          "output_type": "execute_result",
          "data": {
            "text/plain": [
              "                                                  review sentiment  \\\n",
              "33553  I really liked this Summerslam due to the look...  positive   \n",
              "9427   Not many television shows appeal to quite as m...  positive   \n",
              "199    The film quickly gets to a major chase scene w...  negative   \n",
              "12447  Jane Austen would definitely approve of this o...  positive   \n",
              "39489  Expectations were somewhat high for me when I ...  negative   \n",
              "\n",
              "                                            clean_review  \n",
              "33553  really liked summerslam due look arena curtain...  \n",
              "9427   many television shows appeal quite many differ...  \n",
              "199    film quickly gets major chase scene ever incre...  \n",
              "12447  jane austen would definitely approve one gwyne...  \n",
              "39489  expectations somewhat high went see movie thou...  "
            ],
            "text/html": [
              "\n",
              "  <div id=\"df-7655348f-1e79-4829-bc33-129d8b762481\" class=\"colab-df-container\">\n",
              "    <div>\n",
              "<style scoped>\n",
              "    .dataframe tbody tr th:only-of-type {\n",
              "        vertical-align: middle;\n",
              "    }\n",
              "\n",
              "    .dataframe tbody tr th {\n",
              "        vertical-align: top;\n",
              "    }\n",
              "\n",
              "    .dataframe thead th {\n",
              "        text-align: right;\n",
              "    }\n",
              "</style>\n",
              "<table border=\"1\" class=\"dataframe\">\n",
              "  <thead>\n",
              "    <tr style=\"text-align: right;\">\n",
              "      <th></th>\n",
              "      <th>review</th>\n",
              "      <th>sentiment</th>\n",
              "      <th>clean_review</th>\n",
              "    </tr>\n",
              "  </thead>\n",
              "  <tbody>\n",
              "    <tr>\n",
              "      <th>33553</th>\n",
              "      <td>I really liked this Summerslam due to the look...</td>\n",
              "      <td>positive</td>\n",
              "      <td>really liked summerslam due look arena curtain...</td>\n",
              "    </tr>\n",
              "    <tr>\n",
              "      <th>9427</th>\n",
              "      <td>Not many television shows appeal to quite as m...</td>\n",
              "      <td>positive</td>\n",
              "      <td>many television shows appeal quite many differ...</td>\n",
              "    </tr>\n",
              "    <tr>\n",
              "      <th>199</th>\n",
              "      <td>The film quickly gets to a major chase scene w...</td>\n",
              "      <td>negative</td>\n",
              "      <td>film quickly gets major chase scene ever incre...</td>\n",
              "    </tr>\n",
              "    <tr>\n",
              "      <th>12447</th>\n",
              "      <td>Jane Austen would definitely approve of this o...</td>\n",
              "      <td>positive</td>\n",
              "      <td>jane austen would definitely approve one gwyne...</td>\n",
              "    </tr>\n",
              "    <tr>\n",
              "      <th>39489</th>\n",
              "      <td>Expectations were somewhat high for me when I ...</td>\n",
              "      <td>negative</td>\n",
              "      <td>expectations somewhat high went see movie thou...</td>\n",
              "    </tr>\n",
              "  </tbody>\n",
              "</table>\n",
              "</div>\n",
              "    <div class=\"colab-df-buttons\">\n",
              "\n",
              "  <div class=\"colab-df-container\">\n",
              "    <button class=\"colab-df-convert\" onclick=\"convertToInteractive('df-7655348f-1e79-4829-bc33-129d8b762481')\"\n",
              "            title=\"Convert this dataframe to an interactive table.\"\n",
              "            style=\"display:none;\">\n",
              "\n",
              "  <svg xmlns=\"http://www.w3.org/2000/svg\" height=\"24px\" viewBox=\"0 -960 960 960\">\n",
              "    <path d=\"M120-120v-720h720v720H120Zm60-500h600v-160H180v160Zm220 220h160v-160H400v160Zm0 220h160v-160H400v160ZM180-400h160v-160H180v160Zm440 0h160v-160H620v160ZM180-180h160v-160H180v160Zm440 0h160v-160H620v160Z\"/>\n",
              "  </svg>\n",
              "    </button>\n",
              "\n",
              "  <style>\n",
              "    .colab-df-container {\n",
              "      display:flex;\n",
              "      gap: 12px;\n",
              "    }\n",
              "\n",
              "    .colab-df-convert {\n",
              "      background-color: #E8F0FE;\n",
              "      border: none;\n",
              "      border-radius: 50%;\n",
              "      cursor: pointer;\n",
              "      display: none;\n",
              "      fill: #1967D2;\n",
              "      height: 32px;\n",
              "      padding: 0 0 0 0;\n",
              "      width: 32px;\n",
              "    }\n",
              "\n",
              "    .colab-df-convert:hover {\n",
              "      background-color: #E2EBFA;\n",
              "      box-shadow: 0px 1px 2px rgba(60, 64, 67, 0.3), 0px 1px 3px 1px rgba(60, 64, 67, 0.15);\n",
              "      fill: #174EA6;\n",
              "    }\n",
              "\n",
              "    .colab-df-buttons div {\n",
              "      margin-bottom: 4px;\n",
              "    }\n",
              "\n",
              "    [theme=dark] .colab-df-convert {\n",
              "      background-color: #3B4455;\n",
              "      fill: #D2E3FC;\n",
              "    }\n",
              "\n",
              "    [theme=dark] .colab-df-convert:hover {\n",
              "      background-color: #434B5C;\n",
              "      box-shadow: 0px 1px 3px 1px rgba(0, 0, 0, 0.15);\n",
              "      filter: drop-shadow(0px 1px 2px rgba(0, 0, 0, 0.3));\n",
              "      fill: #FFFFFF;\n",
              "    }\n",
              "  </style>\n",
              "\n",
              "    <script>\n",
              "      const buttonEl =\n",
              "        document.querySelector('#df-7655348f-1e79-4829-bc33-129d8b762481 button.colab-df-convert');\n",
              "      buttonEl.style.display =\n",
              "        google.colab.kernel.accessAllowed ? 'block' : 'none';\n",
              "\n",
              "      async function convertToInteractive(key) {\n",
              "        const element = document.querySelector('#df-7655348f-1e79-4829-bc33-129d8b762481');\n",
              "        const dataTable =\n",
              "          await google.colab.kernel.invokeFunction('convertToInteractive',\n",
              "                                                    [key], {});\n",
              "        if (!dataTable) return;\n",
              "\n",
              "        const docLinkHtml = 'Like what you see? Visit the ' +\n",
              "          '<a target=\"_blank\" href=https://colab.research.google.com/notebooks/data_table.ipynb>data table notebook</a>'\n",
              "          + ' to learn more about interactive tables.';\n",
              "        element.innerHTML = '';\n",
              "        dataTable['output_type'] = 'display_data';\n",
              "        await google.colab.output.renderOutput(dataTable, element);\n",
              "        const docLink = document.createElement('div');\n",
              "        docLink.innerHTML = docLinkHtml;\n",
              "        element.appendChild(docLink);\n",
              "      }\n",
              "    </script>\n",
              "  </div>\n",
              "\n",
              "\n",
              "<div id=\"df-0d0536f8-c55b-4e7d-86de-bca2fbba2afa\">\n",
              "  <button class=\"colab-df-quickchart\" onclick=\"quickchart('df-0d0536f8-c55b-4e7d-86de-bca2fbba2afa')\"\n",
              "            title=\"Suggest charts\"\n",
              "            style=\"display:none;\">\n",
              "\n",
              "<svg xmlns=\"http://www.w3.org/2000/svg\" height=\"24px\"viewBox=\"0 0 24 24\"\n",
              "     width=\"24px\">\n",
              "    <g>\n",
              "        <path d=\"M19 3H5c-1.1 0-2 .9-2 2v14c0 1.1.9 2 2 2h14c1.1 0 2-.9 2-2V5c0-1.1-.9-2-2-2zM9 17H7v-7h2v7zm4 0h-2V7h2v10zm4 0h-2v-4h2v4z\"/>\n",
              "    </g>\n",
              "</svg>\n",
              "  </button>\n",
              "\n",
              "<style>\n",
              "  .colab-df-quickchart {\n",
              "      --bg-color: #E8F0FE;\n",
              "      --fill-color: #1967D2;\n",
              "      --hover-bg-color: #E2EBFA;\n",
              "      --hover-fill-color: #174EA6;\n",
              "      --disabled-fill-color: #AAA;\n",
              "      --disabled-bg-color: #DDD;\n",
              "  }\n",
              "\n",
              "  [theme=dark] .colab-df-quickchart {\n",
              "      --bg-color: #3B4455;\n",
              "      --fill-color: #D2E3FC;\n",
              "      --hover-bg-color: #434B5C;\n",
              "      --hover-fill-color: #FFFFFF;\n",
              "      --disabled-bg-color: #3B4455;\n",
              "      --disabled-fill-color: #666;\n",
              "  }\n",
              "\n",
              "  .colab-df-quickchart {\n",
              "    background-color: var(--bg-color);\n",
              "    border: none;\n",
              "    border-radius: 50%;\n",
              "    cursor: pointer;\n",
              "    display: none;\n",
              "    fill: var(--fill-color);\n",
              "    height: 32px;\n",
              "    padding: 0;\n",
              "    width: 32px;\n",
              "  }\n",
              "\n",
              "  .colab-df-quickchart:hover {\n",
              "    background-color: var(--hover-bg-color);\n",
              "    box-shadow: 0 1px 2px rgba(60, 64, 67, 0.3), 0 1px 3px 1px rgba(60, 64, 67, 0.15);\n",
              "    fill: var(--button-hover-fill-color);\n",
              "  }\n",
              "\n",
              "  .colab-df-quickchart-complete:disabled,\n",
              "  .colab-df-quickchart-complete:disabled:hover {\n",
              "    background-color: var(--disabled-bg-color);\n",
              "    fill: var(--disabled-fill-color);\n",
              "    box-shadow: none;\n",
              "  }\n",
              "\n",
              "  .colab-df-spinner {\n",
              "    border: 2px solid var(--fill-color);\n",
              "    border-color: transparent;\n",
              "    border-bottom-color: var(--fill-color);\n",
              "    animation:\n",
              "      spin 1s steps(1) infinite;\n",
              "  }\n",
              "\n",
              "  @keyframes spin {\n",
              "    0% {\n",
              "      border-color: transparent;\n",
              "      border-bottom-color: var(--fill-color);\n",
              "      border-left-color: var(--fill-color);\n",
              "    }\n",
              "    20% {\n",
              "      border-color: transparent;\n",
              "      border-left-color: var(--fill-color);\n",
              "      border-top-color: var(--fill-color);\n",
              "    }\n",
              "    30% {\n",
              "      border-color: transparent;\n",
              "      border-left-color: var(--fill-color);\n",
              "      border-top-color: var(--fill-color);\n",
              "      border-right-color: var(--fill-color);\n",
              "    }\n",
              "    40% {\n",
              "      border-color: transparent;\n",
              "      border-right-color: var(--fill-color);\n",
              "      border-top-color: var(--fill-color);\n",
              "    }\n",
              "    60% {\n",
              "      border-color: transparent;\n",
              "      border-right-color: var(--fill-color);\n",
              "    }\n",
              "    80% {\n",
              "      border-color: transparent;\n",
              "      border-right-color: var(--fill-color);\n",
              "      border-bottom-color: var(--fill-color);\n",
              "    }\n",
              "    90% {\n",
              "      border-color: transparent;\n",
              "      border-bottom-color: var(--fill-color);\n",
              "    }\n",
              "  }\n",
              "</style>\n",
              "\n",
              "  <script>\n",
              "    async function quickchart(key) {\n",
              "      const quickchartButtonEl =\n",
              "        document.querySelector('#' + key + ' button');\n",
              "      quickchartButtonEl.disabled = true;  // To prevent multiple clicks.\n",
              "      quickchartButtonEl.classList.add('colab-df-spinner');\n",
              "      try {\n",
              "        const charts = await google.colab.kernel.invokeFunction(\n",
              "            'suggestCharts', [key], {});\n",
              "      } catch (error) {\n",
              "        console.error('Error during call to suggestCharts:', error);\n",
              "      }\n",
              "      quickchartButtonEl.classList.remove('colab-df-spinner');\n",
              "      quickchartButtonEl.classList.add('colab-df-quickchart-complete');\n",
              "    }\n",
              "    (() => {\n",
              "      let quickchartButtonEl =\n",
              "        document.querySelector('#df-0d0536f8-c55b-4e7d-86de-bca2fbba2afa button');\n",
              "      quickchartButtonEl.style.display =\n",
              "        google.colab.kernel.accessAllowed ? 'block' : 'none';\n",
              "    })();\n",
              "  </script>\n",
              "</div>\n",
              "\n",
              "    </div>\n",
              "  </div>\n"
            ],
            "application/vnd.google.colaboratory.intrinsic+json": {
              "type": "dataframe",
              "variable_name": "df",
              "summary": "{\n  \"name\": \"df\",\n  \"rows\": 10000,\n  \"fields\": [\n    {\n      \"column\": \"review\",\n      \"properties\": {\n        \"dtype\": \"string\",\n        \"num_unique_values\": 9978,\n        \"samples\": [\n          \"The only reason I gave this movie a 2 and not a 1 was because for some reason I felt compelled to finish it out! Basically, I wanted to see if there were going to be any aliens, any UFO's, anything at all suggested by the title of the movie, the cover of the movie and the beginning of the movie! I was very disappointed to see religion being thrown into the mix the way that it was. This could have been used to the movie's advantage, but I felt, instead, that the movie was trying to send subliminal messages to me! Finally, how big was this cast's wardrobe!? I became so distracted by the number of different, and extremely bright, shirts each character had on in every new scene that I began to wonder if this movie wasn't really supposed to be classified under \\\"poor comedy\\\".<br /><br />toe thumbs down!\",\n          \"The movie's storyline is pat and quaint. Two women travel through the middle east and discover themselves. Unfortunately, if you are looking for a movie about the middle east and central Asia this is absolutely terrible.<br /><br />The producers of the film either did no research or were unbelievably lazy when filming it. To begin with, and most glaringly incorrect, the Nuristanis, as they were known in the thirties, and indeed since the 1890s and their forceful conversion by Abdul-Rahman Shah of Aghnaistan, were not nomads. In fact they have not been nomads since the Aryan invasions of central Asia over three milenia ago.<br /><br />Second, the city that is filmed as Tehran is not Tehran, which is understandable, however the geography of the area around the city could not be more strikingly DIFFERENT than the city of Tehran, which is surrounded on all side by a large mountain range, which predominates all of the cities views.<br /><br />Third, Persian, despite the fact it is spoken in Iran and Afghanistan, is never heard in movie. When there are native speakers who do not speak in German they speak in Arabic. The 'Persian' guards at the border, in fact, say to each other 'Ma hadha rujal' (This is not a man) and not 'in mard nist' as it would be in Persian. Also, the love song between the Indian princess and one of the main characters is obviously in Spanish. While talking in the garden one of the main characters says that the Quran uses the words 'Ferdos' and 'jehaan' and makes some reference to drugs afterwords. These words certainly never appear in the Quran as they are Persian for Paradise (indeed, Ferdos and Paradise are very distant cognates between our languages) and 'World' respectively, though Jehaan is admittedly close to 'Jehennan' which is hell in Arabic. When they encounter the nomads in the desert the language spoken is also Arabic, this despite the fact that there are NO native speakers of Arabic in Iran and Afghanistan and its use is primarily religious, with some use in education at that time.<br /><br />When they are stopped in Iran before they reach the Afghan border the people they encounter are wholly unlike any Iranian group. Their tents are typically bedouin with carpets decorating the walls and a high profile. In Iran it is also extremely uncommon for people to wear Turbans unless they are a cleric. The language spoken is clearly Arabic from the initial greeting of 'Ahlan wa Sahlan.' When they do reach Kabul the desert they find themselves in is sandy, totally unlike the rock dirt that is found in the arid parts of the Hindu Kush mountain range. There is an absence of the light green scrub that covers the ground in the summer and spring. The area is also not wholly consumed by the extreme mountains of the mountain range that won its name, The Indian Killers, because of its difficult and limiting ground.<br /><br />In short, the story line is the only thing in this movie that holds any water and it is still weak and common place. It lacks any real draw to it, being merely the tale of two women trying to learning about themselves as they get to Nuristan, however, even that is still-born and no real development is felt, leaving the characters in the end just where they were in the beginning and nothing has changed except that world war two has broken loose. In short, this is a really bad movie that I would have rated at one star except for the good footage of Bedouin and the deserts of the Levant, even if they are misnamed.\",\n          \"A paranoid scientist creates a wolfman by transfusing wolf blood into a meek, quiet, but very large gardener, in order to prove an hypothesis. So the gardener begins nightly rampages and the scientist tries to use him to reclaim his credentials, but is rebuffed by his former colleagues for tampering with nature. Island of Dr Moreau, Frankenstein and various wolfman films all blended together into a terribly dated, goofy, morality play.<br /><br />Though the subject matter is pedantic and unoriginal at best, this film is not too poorly made, and interesting to watch as a representative of horror film making of its time. Like most mad scientist films, this is a weak warning against fooling around with Mother Nature. It doesn't have the power or intellectual challenges of Frankenstein, but it doesn't ever extend its reach anyway. The acting is passable, as is the cinematography, and the film moves along at an entertaining clip. Some of the dialog is utterly ludicrous, but hey... it's just a movie - and a B minus one at that. There are also a few nice shots of a wolf, and a smattering of humor tossed-in to prevent the film from appearing to take itself too seriously - always a plus for this genre.\"\n        ],\n        \"semantic_type\": \"\",\n        \"description\": \"\"\n      }\n    },\n    {\n      \"column\": \"sentiment\",\n      \"properties\": {\n        \"dtype\": \"category\",\n        \"num_unique_values\": 2,\n        \"samples\": [\n          \"negative\",\n          \"positive\"\n        ],\n        \"semantic_type\": \"\",\n        \"description\": \"\"\n      }\n    },\n    {\n      \"column\": \"clean_review\",\n      \"properties\": {\n        \"dtype\": \"string\",\n        \"num_unique_values\": 9978,\n        \"samples\": [\n          \"reason gave movie reason felt compelled finish basically wanted see going aliens ufo anything suggested title movie cover movie beginning movie disappointed see religion thrown mix way could used movie advantage felt instead movie trying send subliminal messages finally big cast wardrobe became distracted number different extremely bright shirts character every new scene began wonder movie really supposed classified poor comedy toe thumbs\",\n          \"movie storyline pat quaint two women travel middle east discover unfortunately looking movie middle east central asia absolutely terrible producers film either research unbelievably lazy filming begin glaringly incorrect nuristanis known thirties indeed since forceful conversion abdul rahman shah aghnaistan nomads fact nomads since aryan invasions central asia three milenia ago second city filmed tehran tehran understandable however geography area around city could strikingly different city tehran surrounded side large mountain range predominates cities views third persian despite fact spoken iran afghanistan never heard movie native speakers speak german speak arabic persian guards border fact say hadha rujal man mard nist would persian also love song indian princess one main characters obviously spanish talking garden one main characters says quran uses words ferdos jehaan makes reference drugs afterwords words certainly never appear quran persian paradise indeed ferdos paradise distant cognates languages world respectively though jehaan admittedly close jehennan hell arabic encounter nomads desert language spoken also arabic despite fact native speakers arabic iran afghanistan use primarily religious use education time stopped iran reach afghan border people encounter wholly unlike iranian group tents typically bedouin carpets decorating walls high profile iran also extremely uncommon people wear turbans unless cleric language spoken clearly arabic initial greeting ahlan wa sahlan reach kabul desert find sandy totally unlike rock dirt found arid parts hindu kush mountain range absence light green scrub covers ground summer spring area also wholly consumed extreme mountains mountain range name indian killers difficult limiting ground short story line thing movie holds water still weak common place lacks real draw merely tale two women trying learning get nuristan however even still born real development felt leaving characters end beginning nothing changed except world war two broken loose short really bad movie would rated one star except good footage bedouin deserts levant even misnamed\"\n        ],\n        \"semantic_type\": \"\",\n        \"description\": \"\"\n      }\n    }\n  ]\n}"
            }
          },
          "metadata": {},
          "execution_count": 17
        }
      ]
    },
    {
      "cell_type": "markdown",
      "source": [
        "#2)Given any sentence, perform vector semantics i.e., convert the given dataset into vectors using Bag of Words approach."
      ],
      "metadata": {
        "id": "kkt0pDyOodBY"
      }
    },
    {
      "cell_type": "markdown",
      "source": [
        "##Step 2: Vector semantics using Bag of Words (CountVectorizer or TF-IDF)"
      ],
      "metadata": {
        "id": "Pn4lo5xW5wGl"
      }
    },
    {
      "cell_type": "code",
      "source": [
        "vectorizer = TfidfVectorizer(max_features=5000)\n",
        "X = vectorizer.fit_transform(df['clean_review']).toarray()\n",
        "y = df['sentiment']"
      ],
      "metadata": {
        "id": "V_0F-b0R0bIC"
      },
      "execution_count": 18,
      "outputs": []
    },
    {
      "cell_type": "markdown",
      "source": [
        "#3)Train a simple classifier (using Scikit-learn e.g.: SVM) to perform sentiment analysis on the generated dataset."
      ],
      "metadata": {
        "id": "YxNRrZEKovep"
      }
    },
    {
      "cell_type": "markdown",
      "source": [
        "## Step 3: Train a simple classifier (SVM)"
      ],
      "metadata": {
        "id": "Eo-065Eb52Mp"
      }
    },
    {
      "cell_type": "code",
      "source": [
        "X_train, X_test, y_train, y_test = train_test_split(X, y, test_size=0.2, random_state=42)"
      ],
      "metadata": {
        "id": "1GQz6f670b9v"
      },
      "execution_count": 19,
      "outputs": []
    },
    {
      "cell_type": "code",
      "source": [
        "from sklearn.svm import SVC\n",
        "from sklearn.model_selection import GridSearchCV"
      ],
      "metadata": {
        "id": "ZWQ9twd5EVlB"
      },
      "execution_count": 20,
      "outputs": []
    },
    {
      "cell_type": "markdown",
      "source": [
        "###Finding Best hyperparameter using GridSearch"
      ],
      "metadata": {
        "id": "-wnGjtHIN3KJ"
      }
    },
    {
      "cell_type": "code",
      "source": [
        "# # Optimize SVM hyperparameters using GridSearchCV\n",
        "# param_grid = {'C': [0.1, 1, 10], 'kernel': ['linear', 'rbf']}\n",
        "# svm_classifier = SVC()\n",
        "# grid_search = GridSearchCV(svm_classifier, param_grid, cv=5, n_jobs=-1)\n",
        "\n",
        "\n",
        "# grid_search.fit(X_train, y_train)\n",
        "\n",
        "# # Get the best hyperparameters\n",
        "# best_svm_classifier = grid_search.best_estimator_\n",
        "\n",
        "\n",
        "# # Make predictions using the best model\n",
        "# predictions = best_svm_classifier.predict(X_test)\n",
        "# accuracy = accuracy_score(y_test, predictions)\n",
        "\n",
        "# print(f\"Best SVM hyperparameters: {grid_search.best_params_}\")\n",
        "# print(f\"Accuracy using Bag of Words approach: {accuracy}\")"
      ],
      "metadata": {
        "id": "K_aRnrctEZj8"
      },
      "execution_count": 21,
      "outputs": []
    },
    {
      "cell_type": "code",
      "source": [
        "# Set the best hyperparameters manually\n",
        "best_svm_classifier = SVC(C=1, kernel='rbf')"
      ],
      "metadata": {
        "id": "pt4TA6kqElG0"
      },
      "execution_count": 22,
      "outputs": []
    },
    {
      "cell_type": "code",
      "source": [
        "# Fit the model with your training data\n",
        "best_svm_classifier.fit(X_train, y_train)"
      ],
      "metadata": {
        "colab": {
          "base_uri": "https://localhost:8080/",
          "height": 74
        },
        "id": "a8hzVx51Ekxd",
        "outputId": "bdb0e11d-fbc2-41fc-9e04-273116a00a6c"
      },
      "execution_count": 23,
      "outputs": [
        {
          "output_type": "execute_result",
          "data": {
            "text/plain": [
              "SVC(C=1)"
            ],
            "text/html": [
              "<style>#sk-container-id-1 {color: black;background-color: white;}#sk-container-id-1 pre{padding: 0;}#sk-container-id-1 div.sk-toggleable {background-color: white;}#sk-container-id-1 label.sk-toggleable__label {cursor: pointer;display: block;width: 100%;margin-bottom: 0;padding: 0.3em;box-sizing: border-box;text-align: center;}#sk-container-id-1 label.sk-toggleable__label-arrow:before {content: \"▸\";float: left;margin-right: 0.25em;color: #696969;}#sk-container-id-1 label.sk-toggleable__label-arrow:hover:before {color: black;}#sk-container-id-1 div.sk-estimator:hover label.sk-toggleable__label-arrow:before {color: black;}#sk-container-id-1 div.sk-toggleable__content {max-height: 0;max-width: 0;overflow: hidden;text-align: left;background-color: #f0f8ff;}#sk-container-id-1 div.sk-toggleable__content pre {margin: 0.2em;color: black;border-radius: 0.25em;background-color: #f0f8ff;}#sk-container-id-1 input.sk-toggleable__control:checked~div.sk-toggleable__content {max-height: 200px;max-width: 100%;overflow: auto;}#sk-container-id-1 input.sk-toggleable__control:checked~label.sk-toggleable__label-arrow:before {content: \"▾\";}#sk-container-id-1 div.sk-estimator input.sk-toggleable__control:checked~label.sk-toggleable__label {background-color: #d4ebff;}#sk-container-id-1 div.sk-label input.sk-toggleable__control:checked~label.sk-toggleable__label {background-color: #d4ebff;}#sk-container-id-1 input.sk-hidden--visually {border: 0;clip: rect(1px 1px 1px 1px);clip: rect(1px, 1px, 1px, 1px);height: 1px;margin: -1px;overflow: hidden;padding: 0;position: absolute;width: 1px;}#sk-container-id-1 div.sk-estimator {font-family: monospace;background-color: #f0f8ff;border: 1px dotted black;border-radius: 0.25em;box-sizing: border-box;margin-bottom: 0.5em;}#sk-container-id-1 div.sk-estimator:hover {background-color: #d4ebff;}#sk-container-id-1 div.sk-parallel-item::after {content: \"\";width: 100%;border-bottom: 1px solid gray;flex-grow: 1;}#sk-container-id-1 div.sk-label:hover label.sk-toggleable__label {background-color: #d4ebff;}#sk-container-id-1 div.sk-serial::before {content: \"\";position: absolute;border-left: 1px solid gray;box-sizing: border-box;top: 0;bottom: 0;left: 50%;z-index: 0;}#sk-container-id-1 div.sk-serial {display: flex;flex-direction: column;align-items: center;background-color: white;padding-right: 0.2em;padding-left: 0.2em;position: relative;}#sk-container-id-1 div.sk-item {position: relative;z-index: 1;}#sk-container-id-1 div.sk-parallel {display: flex;align-items: stretch;justify-content: center;background-color: white;position: relative;}#sk-container-id-1 div.sk-item::before, #sk-container-id-1 div.sk-parallel-item::before {content: \"\";position: absolute;border-left: 1px solid gray;box-sizing: border-box;top: 0;bottom: 0;left: 50%;z-index: -1;}#sk-container-id-1 div.sk-parallel-item {display: flex;flex-direction: column;z-index: 1;position: relative;background-color: white;}#sk-container-id-1 div.sk-parallel-item:first-child::after {align-self: flex-end;width: 50%;}#sk-container-id-1 div.sk-parallel-item:last-child::after {align-self: flex-start;width: 50%;}#sk-container-id-1 div.sk-parallel-item:only-child::after {width: 0;}#sk-container-id-1 div.sk-dashed-wrapped {border: 1px dashed gray;margin: 0 0.4em 0.5em 0.4em;box-sizing: border-box;padding-bottom: 0.4em;background-color: white;}#sk-container-id-1 div.sk-label label {font-family: monospace;font-weight: bold;display: inline-block;line-height: 1.2em;}#sk-container-id-1 div.sk-label-container {text-align: center;}#sk-container-id-1 div.sk-container {/* jupyter's `normalize.less` sets `[hidden] { display: none; }` but bootstrap.min.css set `[hidden] { display: none !important; }` so we also need the `!important` here to be able to override the default hidden behavior on the sphinx rendered scikit-learn.org. See: https://github.com/scikit-learn/scikit-learn/issues/21755 */display: inline-block !important;position: relative;}#sk-container-id-1 div.sk-text-repr-fallback {display: none;}</style><div id=\"sk-container-id-1\" class=\"sk-top-container\"><div class=\"sk-text-repr-fallback\"><pre>SVC(C=1)</pre><b>In a Jupyter environment, please rerun this cell to show the HTML representation or trust the notebook. <br />On GitHub, the HTML representation is unable to render, please try loading this page with nbviewer.org.</b></div><div class=\"sk-container\" hidden><div class=\"sk-item\"><div class=\"sk-estimator sk-toggleable\"><input class=\"sk-toggleable__control sk-hidden--visually\" id=\"sk-estimator-id-1\" type=\"checkbox\" checked><label for=\"sk-estimator-id-1\" class=\"sk-toggleable__label sk-toggleable__label-arrow\">SVC</label><div class=\"sk-toggleable__content\"><pre>SVC(C=1)</pre></div></div></div></div></div>"
            ]
          },
          "metadata": {},
          "execution_count": 23
        }
      ]
    },
    {
      "cell_type": "code",
      "source": [
        "# Make predictions using the best model\n",
        "predictions = best_svm_classifier.predict(X_test)"
      ],
      "metadata": {
        "id": "EsGfGtfxOI1y"
      },
      "execution_count": 24,
      "outputs": []
    },
    {
      "cell_type": "code",
      "source": [
        "accuracy = accuracy_score(y_test, predictions)"
      ],
      "metadata": {
        "id": "uFkYde3ORrx1"
      },
      "execution_count": 25,
      "outputs": []
    },
    {
      "cell_type": "code",
      "source": [
        "print(f\"Accuracy using Bag of Words approach: {accuracy}\")"
      ],
      "metadata": {
        "colab": {
          "base_uri": "https://localhost:8080/"
        },
        "id": "SfoQJ0H9OQHl",
        "outputId": "413e5497-8cd1-4a22-dbb4-d04acabbd38f"
      },
      "execution_count": 26,
      "outputs": [
        {
          "output_type": "stream",
          "name": "stdout",
          "text": [
            "Accuracy using Bag of Words approach: 0.872\n"
          ]
        }
      ]
    },
    {
      "cell_type": "markdown",
      "source": [
        "Best SVM hyperparameters: {'C': 1, 'kernel': 'rbf'}\n",
        "Accuracy using Bag of Words approach: 0.8725"
      ],
      "metadata": {
        "id": "hcCHygLBkc8V"
      }
    },
    {
      "cell_type": "markdown",
      "source": [
        "#4)Repeat the above process again but now using word2vector. (for any sentence, take average of the vector representation of all the tokens to get the vector representation)"
      ],
      "metadata": {
        "id": "Hf_1po8yo_MU"
      }
    },
    {
      "cell_type": "markdown",
      "source": [
        "##Step 4: Vector semantics using Word2Vec"
      ],
      "metadata": {
        "id": "WxXjwsPx59QS"
      }
    },
    {
      "cell_type": "code",
      "source": [
        "!pip install gensim"
      ],
      "metadata": {
        "colab": {
          "base_uri": "https://localhost:8080/"
        },
        "id": "JB0pwoAy691Z",
        "outputId": "00a9b5cf-324d-4be5-d878-a08d830b9586"
      },
      "execution_count": 27,
      "outputs": [
        {
          "output_type": "stream",
          "name": "stdout",
          "text": [
            "Requirement already satisfied: gensim in /usr/local/lib/python3.10/dist-packages (4.3.2)\n",
            "Requirement already satisfied: numpy>=1.18.5 in /usr/local/lib/python3.10/dist-packages (from gensim) (1.25.2)\n",
            "Requirement already satisfied: scipy>=1.7.0 in /usr/local/lib/python3.10/dist-packages (from gensim) (1.11.4)\n",
            "Requirement already satisfied: smart-open>=1.8.1 in /usr/local/lib/python3.10/dist-packages (from gensim) (6.4.0)\n"
          ]
        }
      ]
    },
    {
      "cell_type": "code",
      "source": [
        "import gensim"
      ],
      "metadata": {
        "id": "TMPPdlwj6-wb"
      },
      "execution_count": 28,
      "outputs": []
    },
    {
      "cell_type": "code",
      "source": [
        "from gensim.models import Word2Vec, KeyedVectors"
      ],
      "metadata": {
        "id": "brl-69PQ7DNE"
      },
      "execution_count": 29,
      "outputs": []
    },
    {
      "cell_type": "code",
      "source": [
        "#'clean_review' is the column containing preprocessed reviews\n",
        "df['tokenized_sentences'] = df['clean_review'].apply(lambda x: word_tokenize(x))"
      ],
      "metadata": {
        "id": "9jfRnrab5B7b"
      },
      "execution_count": 30,
      "outputs": []
    },
    {
      "cell_type": "code",
      "source": [
        "# Filter out empty tokenized sentences\n",
        "tokenized_sentences = df['tokenized_sentences'][df['tokenized_sentences'].apply(len) > 0]"
      ],
      "metadata": {
        "id": "tASvxC5_mvVH"
      },
      "execution_count": 31,
      "outputs": []
    },
    {
      "cell_type": "code",
      "source": [
        "# Train Word2Vec model\n",
        "word2vec_model = Word2Vec(sentences=tokenized_sentences, vector_size=100, window=5, min_count=1, workers=4)"
      ],
      "metadata": {
        "id": "dCyZ1nI6juUS"
      },
      "execution_count": 32,
      "outputs": []
    },
    {
      "cell_type": "markdown",
      "source": [
        "# Step 5: Convert paragraphs to vectors using Word2Vec (average of token vectors)"
      ],
      "metadata": {
        "id": "hpIBAhzU6SwR"
      }
    },
    {
      "cell_type": "code",
      "source": [
        "def get_vector(sentence):\n",
        "    vectors = [word2vec_model.wv[word] for word in sentence if word in word2vec_model.wv]\n",
        "    if not vectors:\n",
        "        return np.zeros(word2vec_model.vector_size)\n",
        "    return np.mean(vectors, axis=0)"
      ],
      "metadata": {
        "id": "TkFBZgbr6O_R"
      },
      "execution_count": 33,
      "outputs": []
    },
    {
      "cell_type": "code",
      "source": [
        "# Assuming tokenized_sentences is a column in your DataFrame\n",
        "df['word2vec_vector'] = df['tokenized_sentences'].apply(get_vector)"
      ],
      "metadata": {
        "id": "FR_heYFNjaPG"
      },
      "execution_count": 34,
      "outputs": []
    },
    {
      "cell_type": "code",
      "source": [
        "df.head()"
      ],
      "metadata": {
        "colab": {
          "base_uri": "https://localhost:8080/",
          "height": 293
        },
        "id": "KP9Tj8ryj4yP",
        "outputId": "9e091577-0863-492c-f4be-b332ff57c0b1"
      },
      "execution_count": 35,
      "outputs": [
        {
          "output_type": "execute_result",
          "data": {
            "text/plain": [
              "                                                  review sentiment  \\\n",
              "33553  I really liked this Summerslam due to the look...  positive   \n",
              "9427   Not many television shows appeal to quite as m...  positive   \n",
              "199    The film quickly gets to a major chase scene w...  negative   \n",
              "12447  Jane Austen would definitely approve of this o...  positive   \n",
              "39489  Expectations were somewhat high for me when I ...  negative   \n",
              "\n",
              "                                            clean_review  \\\n",
              "33553  really liked summerslam due look arena curtain...   \n",
              "9427   many television shows appeal quite many differ...   \n",
              "199    film quickly gets major chase scene ever incre...   \n",
              "12447  jane austen would definitely approve one gwyne...   \n",
              "39489  expectations somewhat high went see movie thou...   \n",
              "\n",
              "                                     tokenized_sentences  \\\n",
              "33553  [really, liked, summerslam, due, look, arena, ...   \n",
              "9427   [many, television, shows, appeal, quite, many,...   \n",
              "199    [film, quickly, gets, major, chase, scene, eve...   \n",
              "12447  [jane, austen, would, definitely, approve, one...   \n",
              "39489  [expectations, somewhat, high, went, see, movi...   \n",
              "\n",
              "                                         word2vec_vector  \n",
              "33553  [-0.26590616, 0.4218388, 0.23897374, 0.0712185...  \n",
              "9427   [-0.065519266, 0.6058577, 0.1863164, 0.2087049...  \n",
              "199    [-0.36330926, 0.64236075, 0.22573566, 0.247581...  \n",
              "12447  [-0.28966907, 0.57714725, 0.26444474, 0.054151...  \n",
              "39489  [-0.24685362, 0.5009458, 0.2357432, 0.20990542...  "
            ],
            "text/html": [
              "\n",
              "  <div id=\"df-e9efb87d-39a9-435b-95f2-4b3324ffb466\" class=\"colab-df-container\">\n",
              "    <div>\n",
              "<style scoped>\n",
              "    .dataframe tbody tr th:only-of-type {\n",
              "        vertical-align: middle;\n",
              "    }\n",
              "\n",
              "    .dataframe tbody tr th {\n",
              "        vertical-align: top;\n",
              "    }\n",
              "\n",
              "    .dataframe thead th {\n",
              "        text-align: right;\n",
              "    }\n",
              "</style>\n",
              "<table border=\"1\" class=\"dataframe\">\n",
              "  <thead>\n",
              "    <tr style=\"text-align: right;\">\n",
              "      <th></th>\n",
              "      <th>review</th>\n",
              "      <th>sentiment</th>\n",
              "      <th>clean_review</th>\n",
              "      <th>tokenized_sentences</th>\n",
              "      <th>word2vec_vector</th>\n",
              "    </tr>\n",
              "  </thead>\n",
              "  <tbody>\n",
              "    <tr>\n",
              "      <th>33553</th>\n",
              "      <td>I really liked this Summerslam due to the look...</td>\n",
              "      <td>positive</td>\n",
              "      <td>really liked summerslam due look arena curtain...</td>\n",
              "      <td>[really, liked, summerslam, due, look, arena, ...</td>\n",
              "      <td>[-0.26590616, 0.4218388, 0.23897374, 0.0712185...</td>\n",
              "    </tr>\n",
              "    <tr>\n",
              "      <th>9427</th>\n",
              "      <td>Not many television shows appeal to quite as m...</td>\n",
              "      <td>positive</td>\n",
              "      <td>many television shows appeal quite many differ...</td>\n",
              "      <td>[many, television, shows, appeal, quite, many,...</td>\n",
              "      <td>[-0.065519266, 0.6058577, 0.1863164, 0.2087049...</td>\n",
              "    </tr>\n",
              "    <tr>\n",
              "      <th>199</th>\n",
              "      <td>The film quickly gets to a major chase scene w...</td>\n",
              "      <td>negative</td>\n",
              "      <td>film quickly gets major chase scene ever incre...</td>\n",
              "      <td>[film, quickly, gets, major, chase, scene, eve...</td>\n",
              "      <td>[-0.36330926, 0.64236075, 0.22573566, 0.247581...</td>\n",
              "    </tr>\n",
              "    <tr>\n",
              "      <th>12447</th>\n",
              "      <td>Jane Austen would definitely approve of this o...</td>\n",
              "      <td>positive</td>\n",
              "      <td>jane austen would definitely approve one gwyne...</td>\n",
              "      <td>[jane, austen, would, definitely, approve, one...</td>\n",
              "      <td>[-0.28966907, 0.57714725, 0.26444474, 0.054151...</td>\n",
              "    </tr>\n",
              "    <tr>\n",
              "      <th>39489</th>\n",
              "      <td>Expectations were somewhat high for me when I ...</td>\n",
              "      <td>negative</td>\n",
              "      <td>expectations somewhat high went see movie thou...</td>\n",
              "      <td>[expectations, somewhat, high, went, see, movi...</td>\n",
              "      <td>[-0.24685362, 0.5009458, 0.2357432, 0.20990542...</td>\n",
              "    </tr>\n",
              "  </tbody>\n",
              "</table>\n",
              "</div>\n",
              "    <div class=\"colab-df-buttons\">\n",
              "\n",
              "  <div class=\"colab-df-container\">\n",
              "    <button class=\"colab-df-convert\" onclick=\"convertToInteractive('df-e9efb87d-39a9-435b-95f2-4b3324ffb466')\"\n",
              "            title=\"Convert this dataframe to an interactive table.\"\n",
              "            style=\"display:none;\">\n",
              "\n",
              "  <svg xmlns=\"http://www.w3.org/2000/svg\" height=\"24px\" viewBox=\"0 -960 960 960\">\n",
              "    <path d=\"M120-120v-720h720v720H120Zm60-500h600v-160H180v160Zm220 220h160v-160H400v160Zm0 220h160v-160H400v160ZM180-400h160v-160H180v160Zm440 0h160v-160H620v160ZM180-180h160v-160H180v160Zm440 0h160v-160H620v160Z\"/>\n",
              "  </svg>\n",
              "    </button>\n",
              "\n",
              "  <style>\n",
              "    .colab-df-container {\n",
              "      display:flex;\n",
              "      gap: 12px;\n",
              "    }\n",
              "\n",
              "    .colab-df-convert {\n",
              "      background-color: #E8F0FE;\n",
              "      border: none;\n",
              "      border-radius: 50%;\n",
              "      cursor: pointer;\n",
              "      display: none;\n",
              "      fill: #1967D2;\n",
              "      height: 32px;\n",
              "      padding: 0 0 0 0;\n",
              "      width: 32px;\n",
              "    }\n",
              "\n",
              "    .colab-df-convert:hover {\n",
              "      background-color: #E2EBFA;\n",
              "      box-shadow: 0px 1px 2px rgba(60, 64, 67, 0.3), 0px 1px 3px 1px rgba(60, 64, 67, 0.15);\n",
              "      fill: #174EA6;\n",
              "    }\n",
              "\n",
              "    .colab-df-buttons div {\n",
              "      margin-bottom: 4px;\n",
              "    }\n",
              "\n",
              "    [theme=dark] .colab-df-convert {\n",
              "      background-color: #3B4455;\n",
              "      fill: #D2E3FC;\n",
              "    }\n",
              "\n",
              "    [theme=dark] .colab-df-convert:hover {\n",
              "      background-color: #434B5C;\n",
              "      box-shadow: 0px 1px 3px 1px rgba(0, 0, 0, 0.15);\n",
              "      filter: drop-shadow(0px 1px 2px rgba(0, 0, 0, 0.3));\n",
              "      fill: #FFFFFF;\n",
              "    }\n",
              "  </style>\n",
              "\n",
              "    <script>\n",
              "      const buttonEl =\n",
              "        document.querySelector('#df-e9efb87d-39a9-435b-95f2-4b3324ffb466 button.colab-df-convert');\n",
              "      buttonEl.style.display =\n",
              "        google.colab.kernel.accessAllowed ? 'block' : 'none';\n",
              "\n",
              "      async function convertToInteractive(key) {\n",
              "        const element = document.querySelector('#df-e9efb87d-39a9-435b-95f2-4b3324ffb466');\n",
              "        const dataTable =\n",
              "          await google.colab.kernel.invokeFunction('convertToInteractive',\n",
              "                                                    [key], {});\n",
              "        if (!dataTable) return;\n",
              "\n",
              "        const docLinkHtml = 'Like what you see? Visit the ' +\n",
              "          '<a target=\"_blank\" href=https://colab.research.google.com/notebooks/data_table.ipynb>data table notebook</a>'\n",
              "          + ' to learn more about interactive tables.';\n",
              "        element.innerHTML = '';\n",
              "        dataTable['output_type'] = 'display_data';\n",
              "        await google.colab.output.renderOutput(dataTable, element);\n",
              "        const docLink = document.createElement('div');\n",
              "        docLink.innerHTML = docLinkHtml;\n",
              "        element.appendChild(docLink);\n",
              "      }\n",
              "    </script>\n",
              "  </div>\n",
              "\n",
              "\n",
              "<div id=\"df-2cdb4e9b-b7de-4b8d-8132-06429089ce27\">\n",
              "  <button class=\"colab-df-quickchart\" onclick=\"quickchart('df-2cdb4e9b-b7de-4b8d-8132-06429089ce27')\"\n",
              "            title=\"Suggest charts\"\n",
              "            style=\"display:none;\">\n",
              "\n",
              "<svg xmlns=\"http://www.w3.org/2000/svg\" height=\"24px\"viewBox=\"0 0 24 24\"\n",
              "     width=\"24px\">\n",
              "    <g>\n",
              "        <path d=\"M19 3H5c-1.1 0-2 .9-2 2v14c0 1.1.9 2 2 2h14c1.1 0 2-.9 2-2V5c0-1.1-.9-2-2-2zM9 17H7v-7h2v7zm4 0h-2V7h2v10zm4 0h-2v-4h2v4z\"/>\n",
              "    </g>\n",
              "</svg>\n",
              "  </button>\n",
              "\n",
              "<style>\n",
              "  .colab-df-quickchart {\n",
              "      --bg-color: #E8F0FE;\n",
              "      --fill-color: #1967D2;\n",
              "      --hover-bg-color: #E2EBFA;\n",
              "      --hover-fill-color: #174EA6;\n",
              "      --disabled-fill-color: #AAA;\n",
              "      --disabled-bg-color: #DDD;\n",
              "  }\n",
              "\n",
              "  [theme=dark] .colab-df-quickchart {\n",
              "      --bg-color: #3B4455;\n",
              "      --fill-color: #D2E3FC;\n",
              "      --hover-bg-color: #434B5C;\n",
              "      --hover-fill-color: #FFFFFF;\n",
              "      --disabled-bg-color: #3B4455;\n",
              "      --disabled-fill-color: #666;\n",
              "  }\n",
              "\n",
              "  .colab-df-quickchart {\n",
              "    background-color: var(--bg-color);\n",
              "    border: none;\n",
              "    border-radius: 50%;\n",
              "    cursor: pointer;\n",
              "    display: none;\n",
              "    fill: var(--fill-color);\n",
              "    height: 32px;\n",
              "    padding: 0;\n",
              "    width: 32px;\n",
              "  }\n",
              "\n",
              "  .colab-df-quickchart:hover {\n",
              "    background-color: var(--hover-bg-color);\n",
              "    box-shadow: 0 1px 2px rgba(60, 64, 67, 0.3), 0 1px 3px 1px rgba(60, 64, 67, 0.15);\n",
              "    fill: var(--button-hover-fill-color);\n",
              "  }\n",
              "\n",
              "  .colab-df-quickchart-complete:disabled,\n",
              "  .colab-df-quickchart-complete:disabled:hover {\n",
              "    background-color: var(--disabled-bg-color);\n",
              "    fill: var(--disabled-fill-color);\n",
              "    box-shadow: none;\n",
              "  }\n",
              "\n",
              "  .colab-df-spinner {\n",
              "    border: 2px solid var(--fill-color);\n",
              "    border-color: transparent;\n",
              "    border-bottom-color: var(--fill-color);\n",
              "    animation:\n",
              "      spin 1s steps(1) infinite;\n",
              "  }\n",
              "\n",
              "  @keyframes spin {\n",
              "    0% {\n",
              "      border-color: transparent;\n",
              "      border-bottom-color: var(--fill-color);\n",
              "      border-left-color: var(--fill-color);\n",
              "    }\n",
              "    20% {\n",
              "      border-color: transparent;\n",
              "      border-left-color: var(--fill-color);\n",
              "      border-top-color: var(--fill-color);\n",
              "    }\n",
              "    30% {\n",
              "      border-color: transparent;\n",
              "      border-left-color: var(--fill-color);\n",
              "      border-top-color: var(--fill-color);\n",
              "      border-right-color: var(--fill-color);\n",
              "    }\n",
              "    40% {\n",
              "      border-color: transparent;\n",
              "      border-right-color: var(--fill-color);\n",
              "      border-top-color: var(--fill-color);\n",
              "    }\n",
              "    60% {\n",
              "      border-color: transparent;\n",
              "      border-right-color: var(--fill-color);\n",
              "    }\n",
              "    80% {\n",
              "      border-color: transparent;\n",
              "      border-right-color: var(--fill-color);\n",
              "      border-bottom-color: var(--fill-color);\n",
              "    }\n",
              "    90% {\n",
              "      border-color: transparent;\n",
              "      border-bottom-color: var(--fill-color);\n",
              "    }\n",
              "  }\n",
              "</style>\n",
              "\n",
              "  <script>\n",
              "    async function quickchart(key) {\n",
              "      const quickchartButtonEl =\n",
              "        document.querySelector('#' + key + ' button');\n",
              "      quickchartButtonEl.disabled = true;  // To prevent multiple clicks.\n",
              "      quickchartButtonEl.classList.add('colab-df-spinner');\n",
              "      try {\n",
              "        const charts = await google.colab.kernel.invokeFunction(\n",
              "            'suggestCharts', [key], {});\n",
              "      } catch (error) {\n",
              "        console.error('Error during call to suggestCharts:', error);\n",
              "      }\n",
              "      quickchartButtonEl.classList.remove('colab-df-spinner');\n",
              "      quickchartButtonEl.classList.add('colab-df-quickchart-complete');\n",
              "    }\n",
              "    (() => {\n",
              "      let quickchartButtonEl =\n",
              "        document.querySelector('#df-2cdb4e9b-b7de-4b8d-8132-06429089ce27 button');\n",
              "      quickchartButtonEl.style.display =\n",
              "        google.colab.kernel.accessAllowed ? 'block' : 'none';\n",
              "    })();\n",
              "  </script>\n",
              "</div>\n",
              "\n",
              "    </div>\n",
              "  </div>\n"
            ],
            "application/vnd.google.colaboratory.intrinsic+json": {
              "type": "dataframe",
              "variable_name": "df",
              "summary": "{\n  \"name\": \"df\",\n  \"rows\": 10000,\n  \"fields\": [\n    {\n      \"column\": \"review\",\n      \"properties\": {\n        \"dtype\": \"string\",\n        \"num_unique_values\": 9978,\n        \"samples\": [\n          \"The only reason I gave this movie a 2 and not a 1 was because for some reason I felt compelled to finish it out! Basically, I wanted to see if there were going to be any aliens, any UFO's, anything at all suggested by the title of the movie, the cover of the movie and the beginning of the movie! I was very disappointed to see religion being thrown into the mix the way that it was. This could have been used to the movie's advantage, but I felt, instead, that the movie was trying to send subliminal messages to me! Finally, how big was this cast's wardrobe!? I became so distracted by the number of different, and extremely bright, shirts each character had on in every new scene that I began to wonder if this movie wasn't really supposed to be classified under \\\"poor comedy\\\".<br /><br />toe thumbs down!\",\n          \"The movie's storyline is pat and quaint. Two women travel through the middle east and discover themselves. Unfortunately, if you are looking for a movie about the middle east and central Asia this is absolutely terrible.<br /><br />The producers of the film either did no research or were unbelievably lazy when filming it. To begin with, and most glaringly incorrect, the Nuristanis, as they were known in the thirties, and indeed since the 1890s and their forceful conversion by Abdul-Rahman Shah of Aghnaistan, were not nomads. In fact they have not been nomads since the Aryan invasions of central Asia over three milenia ago.<br /><br />Second, the city that is filmed as Tehran is not Tehran, which is understandable, however the geography of the area around the city could not be more strikingly DIFFERENT than the city of Tehran, which is surrounded on all side by a large mountain range, which predominates all of the cities views.<br /><br />Third, Persian, despite the fact it is spoken in Iran and Afghanistan, is never heard in movie. When there are native speakers who do not speak in German they speak in Arabic. The 'Persian' guards at the border, in fact, say to each other 'Ma hadha rujal' (This is not a man) and not 'in mard nist' as it would be in Persian. Also, the love song between the Indian princess and one of the main characters is obviously in Spanish. While talking in the garden one of the main characters says that the Quran uses the words 'Ferdos' and 'jehaan' and makes some reference to drugs afterwords. These words certainly never appear in the Quran as they are Persian for Paradise (indeed, Ferdos and Paradise are very distant cognates between our languages) and 'World' respectively, though Jehaan is admittedly close to 'Jehennan' which is hell in Arabic. When they encounter the nomads in the desert the language spoken is also Arabic, this despite the fact that there are NO native speakers of Arabic in Iran and Afghanistan and its use is primarily religious, with some use in education at that time.<br /><br />When they are stopped in Iran before they reach the Afghan border the people they encounter are wholly unlike any Iranian group. Their tents are typically bedouin with carpets decorating the walls and a high profile. In Iran it is also extremely uncommon for people to wear Turbans unless they are a cleric. The language spoken is clearly Arabic from the initial greeting of 'Ahlan wa Sahlan.' When they do reach Kabul the desert they find themselves in is sandy, totally unlike the rock dirt that is found in the arid parts of the Hindu Kush mountain range. There is an absence of the light green scrub that covers the ground in the summer and spring. The area is also not wholly consumed by the extreme mountains of the mountain range that won its name, The Indian Killers, because of its difficult and limiting ground.<br /><br />In short, the story line is the only thing in this movie that holds any water and it is still weak and common place. It lacks any real draw to it, being merely the tale of two women trying to learning about themselves as they get to Nuristan, however, even that is still-born and no real development is felt, leaving the characters in the end just where they were in the beginning and nothing has changed except that world war two has broken loose. In short, this is a really bad movie that I would have rated at one star except for the good footage of Bedouin and the deserts of the Levant, even if they are misnamed.\",\n          \"A paranoid scientist creates a wolfman by transfusing wolf blood into a meek, quiet, but very large gardener, in order to prove an hypothesis. So the gardener begins nightly rampages and the scientist tries to use him to reclaim his credentials, but is rebuffed by his former colleagues for tampering with nature. Island of Dr Moreau, Frankenstein and various wolfman films all blended together into a terribly dated, goofy, morality play.<br /><br />Though the subject matter is pedantic and unoriginal at best, this film is not too poorly made, and interesting to watch as a representative of horror film making of its time. Like most mad scientist films, this is a weak warning against fooling around with Mother Nature. It doesn't have the power or intellectual challenges of Frankenstein, but it doesn't ever extend its reach anyway. The acting is passable, as is the cinematography, and the film moves along at an entertaining clip. Some of the dialog is utterly ludicrous, but hey... it's just a movie - and a B minus one at that. There are also a few nice shots of a wolf, and a smattering of humor tossed-in to prevent the film from appearing to take itself too seriously - always a plus for this genre.\"\n        ],\n        \"semantic_type\": \"\",\n        \"description\": \"\"\n      }\n    },\n    {\n      \"column\": \"sentiment\",\n      \"properties\": {\n        \"dtype\": \"category\",\n        \"num_unique_values\": 2,\n        \"samples\": [\n          \"negative\",\n          \"positive\"\n        ],\n        \"semantic_type\": \"\",\n        \"description\": \"\"\n      }\n    },\n    {\n      \"column\": \"clean_review\",\n      \"properties\": {\n        \"dtype\": \"string\",\n        \"num_unique_values\": 9978,\n        \"samples\": [\n          \"reason gave movie reason felt compelled finish basically wanted see going aliens ufo anything suggested title movie cover movie beginning movie disappointed see religion thrown mix way could used movie advantage felt instead movie trying send subliminal messages finally big cast wardrobe became distracted number different extremely bright shirts character every new scene began wonder movie really supposed classified poor comedy toe thumbs\",\n          \"movie storyline pat quaint two women travel middle east discover unfortunately looking movie middle east central asia absolutely terrible producers film either research unbelievably lazy filming begin glaringly incorrect nuristanis known thirties indeed since forceful conversion abdul rahman shah aghnaistan nomads fact nomads since aryan invasions central asia three milenia ago second city filmed tehran tehran understandable however geography area around city could strikingly different city tehran surrounded side large mountain range predominates cities views third persian despite fact spoken iran afghanistan never heard movie native speakers speak german speak arabic persian guards border fact say hadha rujal man mard nist would persian also love song indian princess one main characters obviously spanish talking garden one main characters says quran uses words ferdos jehaan makes reference drugs afterwords words certainly never appear quran persian paradise indeed ferdos paradise distant cognates languages world respectively though jehaan admittedly close jehennan hell arabic encounter nomads desert language spoken also arabic despite fact native speakers arabic iran afghanistan use primarily religious use education time stopped iran reach afghan border people encounter wholly unlike iranian group tents typically bedouin carpets decorating walls high profile iran also extremely uncommon people wear turbans unless cleric language spoken clearly arabic initial greeting ahlan wa sahlan reach kabul desert find sandy totally unlike rock dirt found arid parts hindu kush mountain range absence light green scrub covers ground summer spring area also wholly consumed extreme mountains mountain range name indian killers difficult limiting ground short story line thing movie holds water still weak common place lacks real draw merely tale two women trying learning get nuristan however even still born real development felt leaving characters end beginning nothing changed except world war two broken loose short really bad movie would rated one star except good footage bedouin deserts levant even misnamed\"\n        ],\n        \"semantic_type\": \"\",\n        \"description\": \"\"\n      }\n    },\n    {\n      \"column\": \"tokenized_sentences\",\n      \"properties\": {\n        \"dtype\": \"object\",\n        \"semantic_type\": \"\",\n        \"description\": \"\"\n      }\n    },\n    {\n      \"column\": \"word2vec_vector\",\n      \"properties\": {\n        \"dtype\": \"object\",\n        \"semantic_type\": \"\",\n        \"description\": \"\"\n      }\n    }\n  ]\n}"
            }
          },
          "metadata": {},
          "execution_count": 35
        }
      ]
    },
    {
      "cell_type": "code",
      "source": [
        "# Split data into train and test sets\n",
        "X = np.vstack(df['word2vec_vector'].to_numpy())\n",
        "y = df['sentiment']"
      ],
      "metadata": {
        "id": "47W2BATUno2e"
      },
      "execution_count": 36,
      "outputs": []
    },
    {
      "cell_type": "code",
      "source": [
        "X_train, X_test, y_train, y_test = train_test_split(X, y, test_size=0.2, random_state=42)"
      ],
      "metadata": {
        "id": "imU2atk1UQ_8"
      },
      "execution_count": 37,
      "outputs": []
    },
    {
      "cell_type": "code",
      "source": [
        "# Initialize SVM classifier\n",
        "svm_classifier_word2vec = SVC(C=1, kernel='rbf')"
      ],
      "metadata": {
        "id": "BU-0DCEEUV0S"
      },
      "execution_count": 38,
      "outputs": []
    },
    {
      "cell_type": "code",
      "source": [
        "# Fit the model with your training data\n",
        "svm_classifier_word2vec.fit(X_train, y_train)"
      ],
      "metadata": {
        "colab": {
          "base_uri": "https://localhost:8080/",
          "height": 74
        },
        "id": "cyKzrydRUZGW",
        "outputId": "c24aa280-93a5-4214-c4c0-d34d5162353b"
      },
      "execution_count": 39,
      "outputs": [
        {
          "output_type": "execute_result",
          "data": {
            "text/plain": [
              "SVC(C=1)"
            ],
            "text/html": [
              "<style>#sk-container-id-2 {color: black;background-color: white;}#sk-container-id-2 pre{padding: 0;}#sk-container-id-2 div.sk-toggleable {background-color: white;}#sk-container-id-2 label.sk-toggleable__label {cursor: pointer;display: block;width: 100%;margin-bottom: 0;padding: 0.3em;box-sizing: border-box;text-align: center;}#sk-container-id-2 label.sk-toggleable__label-arrow:before {content: \"▸\";float: left;margin-right: 0.25em;color: #696969;}#sk-container-id-2 label.sk-toggleable__label-arrow:hover:before {color: black;}#sk-container-id-2 div.sk-estimator:hover label.sk-toggleable__label-arrow:before {color: black;}#sk-container-id-2 div.sk-toggleable__content {max-height: 0;max-width: 0;overflow: hidden;text-align: left;background-color: #f0f8ff;}#sk-container-id-2 div.sk-toggleable__content pre {margin: 0.2em;color: black;border-radius: 0.25em;background-color: #f0f8ff;}#sk-container-id-2 input.sk-toggleable__control:checked~div.sk-toggleable__content {max-height: 200px;max-width: 100%;overflow: auto;}#sk-container-id-2 input.sk-toggleable__control:checked~label.sk-toggleable__label-arrow:before {content: \"▾\";}#sk-container-id-2 div.sk-estimator input.sk-toggleable__control:checked~label.sk-toggleable__label {background-color: #d4ebff;}#sk-container-id-2 div.sk-label input.sk-toggleable__control:checked~label.sk-toggleable__label {background-color: #d4ebff;}#sk-container-id-2 input.sk-hidden--visually {border: 0;clip: rect(1px 1px 1px 1px);clip: rect(1px, 1px, 1px, 1px);height: 1px;margin: -1px;overflow: hidden;padding: 0;position: absolute;width: 1px;}#sk-container-id-2 div.sk-estimator {font-family: monospace;background-color: #f0f8ff;border: 1px dotted black;border-radius: 0.25em;box-sizing: border-box;margin-bottom: 0.5em;}#sk-container-id-2 div.sk-estimator:hover {background-color: #d4ebff;}#sk-container-id-2 div.sk-parallel-item::after {content: \"\";width: 100%;border-bottom: 1px solid gray;flex-grow: 1;}#sk-container-id-2 div.sk-label:hover label.sk-toggleable__label {background-color: #d4ebff;}#sk-container-id-2 div.sk-serial::before {content: \"\";position: absolute;border-left: 1px solid gray;box-sizing: border-box;top: 0;bottom: 0;left: 50%;z-index: 0;}#sk-container-id-2 div.sk-serial {display: flex;flex-direction: column;align-items: center;background-color: white;padding-right: 0.2em;padding-left: 0.2em;position: relative;}#sk-container-id-2 div.sk-item {position: relative;z-index: 1;}#sk-container-id-2 div.sk-parallel {display: flex;align-items: stretch;justify-content: center;background-color: white;position: relative;}#sk-container-id-2 div.sk-item::before, #sk-container-id-2 div.sk-parallel-item::before {content: \"\";position: absolute;border-left: 1px solid gray;box-sizing: border-box;top: 0;bottom: 0;left: 50%;z-index: -1;}#sk-container-id-2 div.sk-parallel-item {display: flex;flex-direction: column;z-index: 1;position: relative;background-color: white;}#sk-container-id-2 div.sk-parallel-item:first-child::after {align-self: flex-end;width: 50%;}#sk-container-id-2 div.sk-parallel-item:last-child::after {align-self: flex-start;width: 50%;}#sk-container-id-2 div.sk-parallel-item:only-child::after {width: 0;}#sk-container-id-2 div.sk-dashed-wrapped {border: 1px dashed gray;margin: 0 0.4em 0.5em 0.4em;box-sizing: border-box;padding-bottom: 0.4em;background-color: white;}#sk-container-id-2 div.sk-label label {font-family: monospace;font-weight: bold;display: inline-block;line-height: 1.2em;}#sk-container-id-2 div.sk-label-container {text-align: center;}#sk-container-id-2 div.sk-container {/* jupyter's `normalize.less` sets `[hidden] { display: none; }` but bootstrap.min.css set `[hidden] { display: none !important; }` so we also need the `!important` here to be able to override the default hidden behavior on the sphinx rendered scikit-learn.org. See: https://github.com/scikit-learn/scikit-learn/issues/21755 */display: inline-block !important;position: relative;}#sk-container-id-2 div.sk-text-repr-fallback {display: none;}</style><div id=\"sk-container-id-2\" class=\"sk-top-container\"><div class=\"sk-text-repr-fallback\"><pre>SVC(C=1)</pre><b>In a Jupyter environment, please rerun this cell to show the HTML representation or trust the notebook. <br />On GitHub, the HTML representation is unable to render, please try loading this page with nbviewer.org.</b></div><div class=\"sk-container\" hidden><div class=\"sk-item\"><div class=\"sk-estimator sk-toggleable\"><input class=\"sk-toggleable__control sk-hidden--visually\" id=\"sk-estimator-id-2\" type=\"checkbox\" checked><label for=\"sk-estimator-id-2\" class=\"sk-toggleable__label sk-toggleable__label-arrow\">SVC</label><div class=\"sk-toggleable__content\"><pre>SVC(C=1)</pre></div></div></div></div></div>"
            ]
          },
          "metadata": {},
          "execution_count": 39
        }
      ]
    },
    {
      "cell_type": "code",
      "source": [
        "# Make predictions using the trained model\n",
        "predictions_word2vec = svm_classifier_word2vec.predict(X_test)"
      ],
      "metadata": {
        "id": "DUwPeSMlUe9t"
      },
      "execution_count": 40,
      "outputs": []
    },
    {
      "cell_type": "code",
      "source": [
        "# Calculate accuracy\n",
        "accuracy_word2vec = accuracy_score(y_test, predictions_word2vec)\n",
        "print(f\"Accuracy using Word2Vec vectors: {accuracy_word2vec}\")"
      ],
      "metadata": {
        "colab": {
          "base_uri": "https://localhost:8080/"
        },
        "id": "O48EVwHlUjwh",
        "outputId": "a29f44e6-fab1-4be0-b9f5-3b3a317e6c57"
      },
      "execution_count": 41,
      "outputs": [
        {
          "output_type": "stream",
          "name": "stdout",
          "text": [
            "Accuracy using Word2Vec vectors: 0.7995\n"
          ]
        }
      ]
    },
    {
      "cell_type": "markdown",
      "source": [
        "##The effectiveness of Word2Vec embeddings often depends on the size and complexity of the dataset. In some cases, Word2Vec may outperform BoW on larger and more complex datasets where capturing semantic relationships is crucial."
      ],
      "metadata": {
        "id": "FyBYI4lNV-wP"
      }
    },
    {
      "cell_type": "markdown",
      "source": [
        "##The SVM classifier might not be optimized for Word2Vec vectors. Hyperparameter tuning specific to Word2Vec embeddings or using other classification algorithms might yield better results."
      ],
      "metadata": {
        "id": "WtVJlzxMWVIu"
      }
    },
    {
      "cell_type": "code",
      "source": [],
      "metadata": {
        "id": "FT-3EjNSaAfM"
      },
      "execution_count": null,
      "outputs": []
    }
  ]
}